{
 "cells": [
  {
   "cell_type": "markdown",
   "id": "d891eced",
   "metadata": {},
   "source": [
    "# Test YoloClassification Model Object Class"
   ]
  },
  {
   "cell_type": "markdown",
   "id": "50d61670",
   "metadata": {},
   "source": [
    "## Load model"
   ]
  },
  {
   "cell_type": "code",
   "execution_count": 1,
   "id": "fe1c5f6b",
   "metadata": {},
   "outputs": [
    {
     "name": "stdout",
     "output_type": "stream",
     "text": [
      "Warming up the classification model...\n",
      "Warm-up complete.\n"
     ]
    }
   ],
   "source": [
    "%reset -f\n",
    "import cv2\n",
    "from util.YoloModel import YoloClassification\n",
    "\n",
    "yolo_model = YoloClassification(r\"models\\yolo11n-cls.pt\")"
   ]
  },
  {
   "cell_type": "markdown",
   "id": "a4ec9844",
   "metadata": {},
   "source": [
    "## Test image from opencv"
   ]
  },
  {
   "cell_type": "markdown",
   "id": "b4ef2d6a",
   "metadata": {},
   "source": [
    "### Single image"
   ]
  },
  {
   "cell_type": "code",
   "execution_count": 2,
   "id": "052408a3",
   "metadata": {},
   "outputs": [
    {
     "data": {
      "text/plain": [
       "('goldfish', 0.9998574256896973)"
      ]
     },
     "execution_count": 2,
     "metadata": {},
     "output_type": "execute_result"
    }
   ],
   "source": [
    "image = cv2.imread(r\"images\\classify\\goldfish.jpg\")\n",
    "\n",
    "results = yolo_model.classify_top1(image)\n",
    "results"
   ]
  },
  {
   "cell_type": "markdown",
   "id": "d618c54d",
   "metadata": {},
   "source": [
    "### Batch images"
   ]
  },
  {
   "cell_type": "code",
   "execution_count": 3,
   "id": "e96bfee8",
   "metadata": {},
   "outputs": [
    {
     "data": {
      "text/plain": [
       "[('goldfish', 0.9998571872711182),\n",
       " ('goldfinch', 0.9817838668823242),\n",
       " ('ostrich', 0.9980541467666626)]"
      ]
     },
     "execution_count": 3,
     "metadata": {},
     "output_type": "execute_result"
    }
   ],
   "source": [
    "image_list = [\n",
    "    cv2.imread(r\"images\\classify\\goldfish.jpg\"),\n",
    "    cv2.imread(r\"images\\classify\\goldfinch.jpg\"),\n",
    "    cv2.imread(r\"images\\classify\\ostrich.jpg\"),\n",
    "]\n",
    "\n",
    "results = yolo_model.classify_top1(image_list)\n",
    "results"
   ]
  },
  {
   "cell_type": "markdown",
   "id": "59c9bc5d",
   "metadata": {},
   "source": [
    "## Test image path"
   ]
  },
  {
   "cell_type": "markdown",
   "id": "86795d3d",
   "metadata": {},
   "source": [
    "### Single path"
   ]
  },
  {
   "cell_type": "code",
   "execution_count": 4,
   "id": "ff9e7a3e",
   "metadata": {},
   "outputs": [
    {
     "data": {
      "text/plain": [
       "('goldfish', 0.9998574256896973)"
      ]
     },
     "execution_count": 4,
     "metadata": {},
     "output_type": "execute_result"
    }
   ],
   "source": [
    "image_path = r\"images\\classify\\goldfish.jpg\", \n",
    "\n",
    "results = yolo_model.classify_top1(image_path)\n",
    "results"
   ]
  },
  {
   "cell_type": "markdown",
   "id": "d7fbee8b",
   "metadata": {},
   "source": [
    "### Batch path"
   ]
  },
  {
   "cell_type": "code",
   "execution_count": 5,
   "id": "985eec1d",
   "metadata": {},
   "outputs": [
    {
     "data": {
      "text/plain": [
       "[('goldfish', 0.9998571872711182),\n",
       " ('goldfinch', 0.9817838668823242),\n",
       " ('ostrich', 0.9980541467666626)]"
      ]
     },
     "execution_count": 5,
     "metadata": {},
     "output_type": "execute_result"
    }
   ],
   "source": [
    "image_path_list = [\n",
    "    r\"images\\classify\\goldfish.jpg\", \n",
    "    r\"images\\classify\\goldfinch.jpg\", \n",
    "    r\"images\\classify\\ostrich.jpg\", \n",
    "]\n",
    "\n",
    "results = yolo_model.classify_top1(image_path_list)\n",
    "results"
   ]
  }
 ],
 "metadata": {
  "kernelspec": {
   "display_name": "bms",
   "language": "python",
   "name": "python3"
  },
  "language_info": {
   "codemirror_mode": {
    "name": "ipython",
    "version": 3
   },
   "file_extension": ".py",
   "mimetype": "text/x-python",
   "name": "python",
   "nbconvert_exporter": "python",
   "pygments_lexer": "ipython3",
   "version": "3.10.15"
  }
 },
 "nbformat": 4,
 "nbformat_minor": 5
}
