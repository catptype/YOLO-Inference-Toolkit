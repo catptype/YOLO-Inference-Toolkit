{
 "cells": [
  {
   "cell_type": "markdown",
   "id": "d891eced",
   "metadata": {},
   "source": [
    "# Test YoloClassification Model Object Class"
   ]
  },
  {
   "cell_type": "markdown",
   "id": "50d61670",
   "metadata": {},
   "source": [
    "## Load model"
   ]
  },
  {
   "cell_type": "code",
   "execution_count": 1,
   "id": "fe1c5f6b",
   "metadata": {},
   "outputs": [
    {
     "name": "stdout",
     "output_type": "stream",
     "text": [
      "Warming up the model...\n",
      "Warm-up complete.\n",
      "Training imgsz: 224\n"
     ]
    }
   ],
   "source": [
    "%reset -f\n",
    "import cv2\n",
    "from util.YoloModel import YoloClassification\n",
    "\n",
    "yolo_model = YoloClassification(r\"models\\yolo11n-cls.pt\")\n",
    "print(f\"Training imgsz: {yolo_model.training_imgsz}\")"
   ]
  },
  {
   "cell_type": "markdown",
   "id": "a4ec9844",
   "metadata": {},
   "source": [
    "## Test image from opencv"
   ]
  },
  {
   "cell_type": "markdown",
   "id": "b4ef2d6a",
   "metadata": {},
   "source": [
    "### Single image"
   ]
  },
  {
   "cell_type": "code",
   "execution_count": 2,
   "id": "052408a3",
   "metadata": {},
   "outputs": [
    {
     "data": {
      "text/plain": [
       "({'preprocess': 5.798300000606105,\n",
       "  'inference': 4.3994000006932765,\n",
       "  'postprocess': 0.0411000000895001},\n",
       " '---',\n",
       " ('goldfish', 0.9998574256896973),\n",
       " '---',\n",
       " [('goldfish', 0.9998574256896973),\n",
       "  ('puffer', 7.429359538946301e-05),\n",
       "  ('tench', 3.375620872247964e-05),\n",
       "  ('rock_beauty', 5.620575848297449e-06),\n",
       "  ('hummingbird', 3.942894636566052e-06)])"
      ]
     },
     "execution_count": 2,
     "metadata": {},
     "output_type": "execute_result"
    }
   ],
   "source": [
    "image = cv2.imread(r\"images\\classify\\goldfish.jpg\")\n",
    "\n",
    "results = yolo_model.predict(image)\n",
    "yolo_model.decode_speed(results), \"---\", yolo_model.decode_top1(results), \"---\", yolo_model.decode_top5(results) "
   ]
  },
  {
   "cell_type": "markdown",
   "id": "d618c54d",
   "metadata": {},
   "source": [
    "### Batch images"
   ]
  },
  {
   "cell_type": "code",
   "execution_count": 3,
   "id": "e96bfee8",
   "metadata": {},
   "outputs": [
    {
     "data": {
      "text/plain": [
       "({'preprocess': 4.784866666644423,\n",
       "  'inference': 9.4531666666929,\n",
       "  'postprocess': 0.01450000005813005},\n",
       " '---',\n",
       " [('goldfish', 0.9998571872711182),\n",
       "  ('goldfinch', 0.9817838668823242),\n",
       "  ('ostrich', 0.9980541467666626)],\n",
       " '---',\n",
       " [[('goldfish', 0.9998571872711182),\n",
       "   ('puffer', 7.443044887622818e-05),\n",
       "   ('tench', 3.3763284591259435e-05),\n",
       "   ('rock_beauty', 5.629039151244797e-06),\n",
       "   ('hummingbird', 3.947769982914906e-06)],\n",
       "  [('goldfinch', 0.9817838668823242),\n",
       "   ('bulbul', 0.006867741700261831),\n",
       "   ('bee_eater', 0.0017660760786384344),\n",
       "   ('magpie', 0.001536521245725453),\n",
       "   ('brambling', 0.0010708412155508995)],\n",
       "  [('ostrich', 0.9980541467666626),\n",
       "   ('black_swan', 0.0009397643734700978),\n",
       "   ('black_stork', 0.0006078416481614113),\n",
       "   ('white_stork', 0.00015859748236835003),\n",
       "   ('crane_(bird)', 5.5384291044902056e-05)]])"
      ]
     },
     "execution_count": 3,
     "metadata": {},
     "output_type": "execute_result"
    }
   ],
   "source": [
    "image_list = [\n",
    "    cv2.imread(r\"images\\classify\\goldfish.jpg\"),\n",
    "    cv2.imread(r\"images\\classify\\goldfinch.jpg\"),\n",
    "    cv2.imread(r\"images\\classify\\ostrich.jpg\"),\n",
    "]\n",
    "\n",
    "results = yolo_model.predict(image_list)\n",
    "yolo_model.decode_speed(results), \"---\", yolo_model.decode_top1(results), \"---\", yolo_model.decode_top5(results) "
   ]
  },
  {
   "cell_type": "markdown",
   "id": "59c9bc5d",
   "metadata": {},
   "source": [
    "## Test image path"
   ]
  },
  {
   "cell_type": "markdown",
   "id": "86795d3d",
   "metadata": {},
   "source": [
    "### Single path"
   ]
  },
  {
   "cell_type": "code",
   "execution_count": 4,
   "id": "ff9e7a3e",
   "metadata": {},
   "outputs": [
    {
     "data": {
      "text/plain": [
       "({'preprocess': 6.934799999726238,\n",
       "  'inference': 4.489700000704033,\n",
       "  'postprocess': 0.04090000220458023},\n",
       " '---',\n",
       " ('goldfish', 0.9998574256896973),\n",
       " '---',\n",
       " [('goldfish', 0.9998574256896973),\n",
       "  ('puffer', 7.429359538946301e-05),\n",
       "  ('tench', 3.375620872247964e-05),\n",
       "  ('rock_beauty', 5.620575848297449e-06),\n",
       "  ('hummingbird', 3.942894636566052e-06)])"
      ]
     },
     "execution_count": 4,
     "metadata": {},
     "output_type": "execute_result"
    }
   ],
   "source": [
    "image_path = r\"images\\classify\\goldfish.jpg\", \n",
    "\n",
    "results = yolo_model.predict(image_path)\n",
    "yolo_model.decode_speed(results), \"---\", yolo_model.decode_top1(results), \"---\", yolo_model.decode_top5(results) "
   ]
  },
  {
   "cell_type": "markdown",
   "id": "d7fbee8b",
   "metadata": {},
   "source": [
    "### Batch path"
   ]
  },
  {
   "cell_type": "code",
   "execution_count": 5,
   "id": "985eec1d",
   "metadata": {},
   "outputs": [
    {
     "data": {
      "text/plain": [
       "({'preprocess': 5.328399999901497,\n",
       "  'inference': 1.448000000285295,\n",
       "  'postprocess': 0.015266666499276957},\n",
       " '---',\n",
       " [('goldfish', 0.9998571872711182),\n",
       "  ('goldfinch', 0.9817838668823242),\n",
       "  ('ostrich', 0.9980541467666626)],\n",
       " '---',\n",
       " [[('goldfish', 0.9998571872711182),\n",
       "   ('puffer', 7.443044887622818e-05),\n",
       "   ('tench', 3.3763284591259435e-05),\n",
       "   ('rock_beauty', 5.629039151244797e-06),\n",
       "   ('hummingbird', 3.947769982914906e-06)],\n",
       "  [('goldfinch', 0.9817838668823242),\n",
       "   ('bulbul', 0.006867741700261831),\n",
       "   ('bee_eater', 0.0017660760786384344),\n",
       "   ('magpie', 0.001536521245725453),\n",
       "   ('brambling', 0.0010708412155508995)],\n",
       "  [('ostrich', 0.9980541467666626),\n",
       "   ('black_swan', 0.0009397643734700978),\n",
       "   ('black_stork', 0.0006078416481614113),\n",
       "   ('white_stork', 0.00015859748236835003),\n",
       "   ('crane_(bird)', 5.5384291044902056e-05)]])"
      ]
     },
     "execution_count": 5,
     "metadata": {},
     "output_type": "execute_result"
    }
   ],
   "source": [
    "image_path_list = [\n",
    "    r\"images\\classify\\goldfish.jpg\", \n",
    "    r\"images\\classify\\goldfinch.jpg\", \n",
    "    r\"images\\classify\\ostrich.jpg\", \n",
    "]\n",
    "\n",
    "results = yolo_model.predict(image_path_list)\n",
    "yolo_model.decode_speed(results), \"---\", yolo_model.decode_top1(results), \"---\", yolo_model.decode_top5(results) "
   ]
  }
 ],
 "metadata": {
  "kernelspec": {
   "display_name": "bms",
   "language": "python",
   "name": "python3"
  },
  "language_info": {
   "codemirror_mode": {
    "name": "ipython",
    "version": 3
   },
   "file_extension": ".py",
   "mimetype": "text/x-python",
   "name": "python",
   "nbconvert_exporter": "python",
   "pygments_lexer": "ipython3",
   "version": "3.10.15"
  }
 },
 "nbformat": 4,
 "nbformat_minor": 5
}
