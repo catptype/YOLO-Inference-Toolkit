{
 "cells": [
  {
   "cell_type": "markdown",
   "id": "d891eced",
   "metadata": {},
   "source": [
    "# Test YoloDetection Model Object Class"
   ]
  },
  {
   "cell_type": "markdown",
   "id": "50d61670",
   "metadata": {},
   "source": [
    "## Load model"
   ]
  },
  {
   "cell_type": "code",
   "execution_count": 6,
   "id": "fe1c5f6b",
   "metadata": {},
   "outputs": [],
   "source": [
    "%reset -f\n",
    "import cv2\n",
    "from util.YoloModel import YoloDetection\n",
    "\n",
    "yolo_model = YoloDetection(r\"models\\yolo11n.pt\")"
   ]
  },
  {
   "cell_type": "code",
   "execution_count": 7,
   "id": "d4cdd71b",
   "metadata": {},
   "outputs": [
    {
     "data": {
      "text/plain": [
       "{0: 'person',\n",
       " 1: 'bicycle',\n",
       " 2: 'car',\n",
       " 3: 'motorcycle',\n",
       " 4: 'airplane',\n",
       " 5: 'bus',\n",
       " 6: 'train',\n",
       " 7: 'truck',\n",
       " 8: 'boat',\n",
       " 9: 'traffic light',\n",
       " 10: 'fire hydrant',\n",
       " 11: 'stop sign',\n",
       " 12: 'parking meter',\n",
       " 13: 'bench',\n",
       " 14: 'bird',\n",
       " 15: 'cat',\n",
       " 16: 'dog',\n",
       " 17: 'horse',\n",
       " 18: 'sheep',\n",
       " 19: 'cow',\n",
       " 20: 'elephant',\n",
       " 21: 'bear',\n",
       " 22: 'zebra',\n",
       " 23: 'giraffe',\n",
       " 24: 'backpack',\n",
       " 25: 'umbrella',\n",
       " 26: 'handbag',\n",
       " 27: 'tie',\n",
       " 28: 'suitcase',\n",
       " 29: 'frisbee',\n",
       " 30: 'skis',\n",
       " 31: 'snowboard',\n",
       " 32: 'sports ball',\n",
       " 33: 'kite',\n",
       " 34: 'baseball bat',\n",
       " 35: 'baseball glove',\n",
       " 36: 'skateboard',\n",
       " 37: 'surfboard',\n",
       " 38: 'tennis racket',\n",
       " 39: 'bottle',\n",
       " 40: 'wine glass',\n",
       " 41: 'cup',\n",
       " 42: 'fork',\n",
       " 43: 'knife',\n",
       " 44: 'spoon',\n",
       " 45: 'bowl',\n",
       " 46: 'banana',\n",
       " 47: 'apple',\n",
       " 48: 'sandwich',\n",
       " 49: 'orange',\n",
       " 50: 'broccoli',\n",
       " 51: 'carrot',\n",
       " 52: 'hot dog',\n",
       " 53: 'pizza',\n",
       " 54: 'donut',\n",
       " 55: 'cake',\n",
       " 56: 'chair',\n",
       " 57: 'couch',\n",
       " 58: 'potted plant',\n",
       " 59: 'bed',\n",
       " 60: 'dining table',\n",
       " 61: 'toilet',\n",
       " 62: 'tv',\n",
       " 63: 'laptop',\n",
       " 64: 'mouse',\n",
       " 65: 'remote',\n",
       " 66: 'keyboard',\n",
       " 67: 'cell phone',\n",
       " 68: 'microwave',\n",
       " 69: 'oven',\n",
       " 70: 'toaster',\n",
       " 71: 'sink',\n",
       " 72: 'refrigerator',\n",
       " 73: 'book',\n",
       " 74: 'clock',\n",
       " 75: 'vase',\n",
       " 76: 'scissors',\n",
       " 77: 'teddy bear',\n",
       " 78: 'hair drier',\n",
       " 79: 'toothbrush'}"
      ]
     },
     "execution_count": 7,
     "metadata": {},
     "output_type": "execute_result"
    }
   ],
   "source": [
    "yolo_model.class_names"
   ]
  },
  {
   "cell_type": "markdown",
   "id": "a4ec9844",
   "metadata": {},
   "source": [
    "## Test image from opencv"
   ]
  },
  {
   "cell_type": "markdown",
   "id": "b4ef2d6a",
   "metadata": {},
   "source": [
    "### Single image"
   ]
  },
  {
   "cell_type": "code",
   "execution_count": 8,
   "id": "052408a3",
   "metadata": {},
   "outputs": [
    {
     "data": {
      "text/plain": [
       "ultralytics.engine.results.Results object with attributes:\n",
       "\n",
       "boxes: ultralytics.engine.results.Boxes object\n",
       "keypoints: None\n",
       "masks: None\n",
       "names: {0: 'person', 1: 'bicycle', 2: 'car', 3: 'motorcycle', 4: 'airplane', 5: 'bus', 6: 'train', 7: 'truck', 8: 'boat', 9: 'traffic light', 10: 'fire hydrant', 11: 'stop sign', 12: 'parking meter', 13: 'bench', 14: 'bird', 15: 'cat', 16: 'dog', 17: 'horse', 18: 'sheep', 19: 'cow', 20: 'elephant', 21: 'bear', 22: 'zebra', 23: 'giraffe', 24: 'backpack', 25: 'umbrella', 26: 'handbag', 27: 'tie', 28: 'suitcase', 29: 'frisbee', 30: 'skis', 31: 'snowboard', 32: 'sports ball', 33: 'kite', 34: 'baseball bat', 35: 'baseball glove', 36: 'skateboard', 37: 'surfboard', 38: 'tennis racket', 39: 'bottle', 40: 'wine glass', 41: 'cup', 42: 'fork', 43: 'knife', 44: 'spoon', 45: 'bowl', 46: 'banana', 47: 'apple', 48: 'sandwich', 49: 'orange', 50: 'broccoli', 51: 'carrot', 52: 'hot dog', 53: 'pizza', 54: 'donut', 55: 'cake', 56: 'chair', 57: 'couch', 58: 'potted plant', 59: 'bed', 60: 'dining table', 61: 'toilet', 62: 'tv', 63: 'laptop', 64: 'mouse', 65: 'remote', 66: 'keyboard', 67: 'cell phone', 68: 'microwave', 69: 'oven', 70: 'toaster', 71: 'sink', 72: 'refrigerator', 73: 'book', 74: 'clock', 75: 'vase', 76: 'scissors', 77: 'teddy bear', 78: 'hair drier', 79: 'toothbrush'}\n",
       "obb: None\n",
       "orig_img: array([[[175, 170, 171],\n",
       "        [175, 170, 171],\n",
       "        [175, 170, 171],\n",
       "        ...,\n",
       "        [182, 212, 232],\n",
       "        [182, 212, 232],\n",
       "        [182, 212, 232]],\n",
       "\n",
       "       [[175, 170, 171],\n",
       "        [175, 170, 171],\n",
       "        [175, 170, 171],\n",
       "        ...,\n",
       "        [182, 212, 232],\n",
       "        [182, 212, 232],\n",
       "        [182, 212, 232]],\n",
       "\n",
       "       [[175, 170, 171],\n",
       "        [175, 170, 171],\n",
       "        [175, 170, 171],\n",
       "        ...,\n",
       "        [182, 212, 232],\n",
       "        [182, 212, 232],\n",
       "        [182, 212, 232]],\n",
       "\n",
       "       ...,\n",
       "\n",
       "       [[120, 112, 109],\n",
       "        [120, 112, 109],\n",
       "        [119, 111, 107],\n",
       "        ...,\n",
       "        [122, 129, 137],\n",
       "        [122, 129, 137],\n",
       "        [121, 128, 136]],\n",
       "\n",
       "       [[119, 113, 110],\n",
       "        [119, 113, 110],\n",
       "        [119, 113, 110],\n",
       "        ...,\n",
       "        [124, 130, 138],\n",
       "        [122, 129, 137],\n",
       "        [120, 126, 134]],\n",
       "\n",
       "       [[119, 113, 110],\n",
       "        [119, 113, 110],\n",
       "        [119, 113, 110],\n",
       "        ...,\n",
       "        [124, 130, 138],\n",
       "        [122, 129, 137],\n",
       "        [120, 126, 134]]], dtype=uint8)\n",
       "orig_shape: (986, 1752)\n",
       "path: 'image0.jpg'\n",
       "probs: None\n",
       "save_dir: None\n",
       "speed: {'preprocess': 2.0407000001796405, 'inference': 17.50220000030822, 'postprocess': 1.8456999996487866}"
      ]
     },
     "execution_count": 8,
     "metadata": {},
     "output_type": "execute_result"
    }
   ],
   "source": [
    "image = cv2.imread(r\"images\\detect\\car.png\")\n",
    "\n",
    "results = yolo_model.predict(image)\n",
    "results"
   ]
  },
  {
   "cell_type": "markdown",
   "id": "d618c54d",
   "metadata": {},
   "source": [
    "### Batch images"
   ]
  },
  {
   "cell_type": "code",
   "execution_count": 9,
   "id": "e96bfee8",
   "metadata": {},
   "outputs": [
    {
     "ename": "AttributeError",
     "evalue": "'YoloDetection' object has no attribute 'classify_top1'",
     "output_type": "error",
     "traceback": [
      "\u001b[1;31m---------------------------------------------------------------------------\u001b[0m",
      "\u001b[1;31mAttributeError\u001b[0m                            Traceback (most recent call last)",
      "Cell \u001b[1;32mIn[9], line 7\u001b[0m\n\u001b[0;32m      1\u001b[0m image_list \u001b[38;5;241m=\u001b[39m [\n\u001b[0;32m      2\u001b[0m     cv2\u001b[38;5;241m.\u001b[39mimread(\u001b[38;5;124mr\u001b[39m\u001b[38;5;124m\"\u001b[39m\u001b[38;5;124mimages\u001b[39m\u001b[38;5;124m\\\u001b[39m\u001b[38;5;124mclassify\u001b[39m\u001b[38;5;124m\\\u001b[39m\u001b[38;5;124mgoldfish.jpg\u001b[39m\u001b[38;5;124m\"\u001b[39m),\n\u001b[0;32m      3\u001b[0m     cv2\u001b[38;5;241m.\u001b[39mimread(\u001b[38;5;124mr\u001b[39m\u001b[38;5;124m\"\u001b[39m\u001b[38;5;124mimages\u001b[39m\u001b[38;5;124m\\\u001b[39m\u001b[38;5;124mclassify\u001b[39m\u001b[38;5;124m\\\u001b[39m\u001b[38;5;124mgoldfinch.jpg\u001b[39m\u001b[38;5;124m\"\u001b[39m),\n\u001b[0;32m      4\u001b[0m     cv2\u001b[38;5;241m.\u001b[39mimread(\u001b[38;5;124mr\u001b[39m\u001b[38;5;124m\"\u001b[39m\u001b[38;5;124mimages\u001b[39m\u001b[38;5;124m\\\u001b[39m\u001b[38;5;124mclassify\u001b[39m\u001b[38;5;124m\\\u001b[39m\u001b[38;5;124mostrich.jpg\u001b[39m\u001b[38;5;124m\"\u001b[39m),\n\u001b[0;32m      5\u001b[0m ]\n\u001b[1;32m----> 7\u001b[0m results \u001b[38;5;241m=\u001b[39m \u001b[43myolo_model\u001b[49m\u001b[38;5;241;43m.\u001b[39;49m\u001b[43mclassify_top1\u001b[49m(image_list)\n\u001b[0;32m      8\u001b[0m results\n",
      "\u001b[1;31mAttributeError\u001b[0m: 'YoloDetection' object has no attribute 'classify_top1'"
     ]
    }
   ],
   "source": [
    "image_list = [\n",
    "    cv2.imread(r\"images\\classify\\goldfish.jpg\"),\n",
    "    cv2.imread(r\"images\\classify\\goldfinch.jpg\"),\n",
    "    cv2.imread(r\"images\\classify\\ostrich.jpg\"),\n",
    "]\n",
    "\n",
    "results = yolo_model.classify_top1(image_list)\n",
    "results"
   ]
  },
  {
   "cell_type": "markdown",
   "id": "59c9bc5d",
   "metadata": {},
   "source": [
    "## Test image path"
   ]
  },
  {
   "cell_type": "markdown",
   "id": "86795d3d",
   "metadata": {},
   "source": [
    "### Single path"
   ]
  },
  {
   "cell_type": "code",
   "execution_count": null,
   "id": "ff9e7a3e",
   "metadata": {},
   "outputs": [
    {
     "data": {
      "text/plain": [
       "('goldfish', 0.9998574256896973)"
      ]
     },
     "execution_count": 4,
     "metadata": {},
     "output_type": "execute_result"
    }
   ],
   "source": [
    "image_path = r\"images\\classify\\goldfish.jpg\", \n",
    "\n",
    "results = yolo_model.classify_top1(image_path)\n",
    "results"
   ]
  },
  {
   "cell_type": "markdown",
   "id": "d7fbee8b",
   "metadata": {},
   "source": [
    "### Batch path"
   ]
  },
  {
   "cell_type": "code",
   "execution_count": null,
   "id": "985eec1d",
   "metadata": {},
   "outputs": [
    {
     "data": {
      "text/plain": [
       "[('goldfish', 0.9998571872711182),\n",
       " ('goldfinch', 0.9817838668823242),\n",
       " ('ostrich', 0.9980541467666626)]"
      ]
     },
     "execution_count": 5,
     "metadata": {},
     "output_type": "execute_result"
    }
   ],
   "source": [
    "image_path_list = [\n",
    "    r\"images\\classify\\goldfish.jpg\", \n",
    "    r\"images\\classify\\goldfinch.jpg\", \n",
    "    r\"images\\classify\\ostrich.jpg\", \n",
    "]\n",
    "\n",
    "results = yolo_model.classify_top1(image_path_list)\n",
    "results"
   ]
  }
 ],
 "metadata": {
  "kernelspec": {
   "display_name": "bms",
   "language": "python",
   "name": "python3"
  },
  "language_info": {
   "codemirror_mode": {
    "name": "ipython",
    "version": 3
   },
   "file_extension": ".py",
   "mimetype": "text/x-python",
   "name": "python",
   "nbconvert_exporter": "python",
   "pygments_lexer": "ipython3",
   "version": "3.10.15"
  }
 },
 "nbformat": 4,
 "nbformat_minor": 5
}
