{
 "cells": [
  {
   "cell_type": "code",
   "execution_count": null,
   "id": "9c4a1e50",
   "metadata": {},
   "outputs": [],
   "source": [
    "import cv2\n",
    "import supervision as sv\n",
    "from supervision.detection.core import Detections\n",
    "from ultralytics import YOLO\n",
    "\n",
    "image = cv2.imread(r\"images\\detect\\car.png\")\n",
    "image = cv2.cvtColor(image, cv2.COLOR_BGR2RGB)\n",
    "\n",
    "model = YOLO(r\"models\\yolo11n.pt\")\n",
    "tracker = sv.ByteTrack()\n",
    "\n",
    "\n"
   ]
  },
  {
   "cell_type": "code",
   "execution_count": null,
   "id": "f7d822e8",
   "metadata": {},
   "outputs": [],
   "source": [
    "results = model.predict(image)\n",
    "results"
   ]
  },
  {
   "cell_type": "code",
   "execution_count": null,
   "id": "232c739f",
   "metadata": {},
   "outputs": [],
   "source": [
    "detections = Detections.from_ultralytics(results[0])\n",
    "detections = tracker.update_with_detections(detections)\n",
    "detections"
   ]
  }
 ],
 "metadata": {
  "kernelspec": {
   "display_name": "bms",
   "language": "python",
   "name": "python3"
  },
  "language_info": {
   "codemirror_mode": {
    "name": "ipython",
    "version": 3
   },
   "file_extension": ".py",
   "mimetype": "text/x-python",
   "name": "python",
   "nbconvert_exporter": "python",
   "pygments_lexer": "ipython3",
   "version": "3.10.15"
  }
 },
 "nbformat": 4,
 "nbformat_minor": 5
}
